!wget -q http://mine.rkhalid.net/todlu/colab.tar.gz
!tar xf colab.tar.gz
!rm colab.tar.gz
!./xeno
